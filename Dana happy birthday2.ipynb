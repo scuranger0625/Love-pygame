# -*- coding: utf-8 -*-
# Romantic Happy Birthday — Deep Blue Edition (Colab-friendly)
# 深藍夜空 / 冷色星光 / 紫洋紅心光暈 / 心軌跡流光 / 小愛心衛星

import numpy as np
import matplotlib.pyplot as plt
from matplotlib import animation
from matplotlib.patches import Polygon
from IPython.display import HTML, display
import random

# ===================== 可調參數 =====================
WIDTH, HEIGHT = 8, 6         # 畫布尺寸（英吋）
FPS = 60                      # 影格率
DURATION = 14                 # 動畫秒數
BUBBLE_COUNT = 60             # 泡泡數量
CONFETTI_COUNT = 90           # 紙屑粒子數
STAR_COUNT = 120              # 星空點數
SPARKLE_COUNT = 70            # 心軌跡流光顆數
GLOW_LAYERS = 6               # 心外圈光暈層數
SAVE_GIF = False              # 是否輸出 GIF（需 pillow）
GIFT_NAME = "romantic_birthday_deepblue.gif"
YOUR_NAME = "Dana"            # 壽星名稱
WISH_EN = "I hope Dana can let go of the past and find her own peace."
# ===================================================

# ---- 心形參數曲線（經典愛心）----
tt = np.linspace(0, 2*np.pi, 800)
hx = 16 * np.sin(tt)**3
hy = 13*np.cos(tt) - 5*np.cos(2*tt) - 2*np.cos(3*tt) - np.cos(4*tt)

# 正常化＆縮放至畫面
scale_base = 0.35
hx *= scale_base
hy *= scale_base

# ---- 畫布 ----
fig, ax = plt.subplots(figsize=(WIDTH, HEIGHT))
ax.set_aspect('equal')
ax.set_xlim(-1.05, 1.05)
ax.set_ylim(-0.9, 1.15)
ax.axis('off')

# ---- 背景：深藍徑向漸層 + 暈影（vignette）----
res = 600
xx = np.linspace(-1.2, 1.2, res)
yy = np.linspace(-1.2, 1.4, res)
X, Y = np.meshgrid(xx, yy)
R = np.sqrt((X/1.2)**2 + ((Y-0.05)/1.2)**2)

# 深藍色票：中心微亮藍、外圈午夜藍
bg_center = np.array([0.08, 0.10, 0.22])  # #151A38
bg_outer  = np.array([0.01, 0.02, 0.06])  # #03050F
t_bg = np.clip(R, 0, 1).reshape(res, res, 1)
BG = bg_center*(1-t_bg) + bg_outer*t_bg

# 暈影：四角更暗
vignette = np.clip(0.30 + 0.85*R, 0.30, 1.0)[..., None]
BG = BG * vignette
ax.imshow(BG, extent=(-1.2,1.2,-1.2,1.4), origin='lower')

# ---- 愛心 glow：紫紅內核 + 紫粉外暈（與深藍對比）----
heart_polys = []
for i in range(GLOW_LAYERS):
    glow_scale = 1.0 + 0.055*(GLOW_LAYERS - i - 1)
    # 外層使用冷粉紫暈
    face = (0.85, 0.45 + 0.08*i/GLOW_LAYERS, 0.90, 0.10)  # RGBA（偏紫粉）
    poly = Polygon(np.column_stack([hx*glow_scale, hy*glow_scale]),
                   closed=True, edgecolor='none', facecolor=face)
    heart_polys.append(poly)
    ax.add_patch(poly)

# 核心心：洋紅帶紫（更飽和）
heart_core = Polygon(np.column_stack([hx*0.995, hy*0.995]),
                     closed=True, edgecolor='none',
                     facecolor=(0.96, 0.20, 0.55, 0.96))  # fuchsia-magenta
ax.add_patch(heart_core)

# ---- 文字（冷色環境下的高對比）----
title_text = ax.text(0, 0.78, f"Happy Birthday, {YOUR_NAME}! ",
                     ha='center', va='center', fontsize=30, weight='bold',
                     color=(0.95, 0.92, 1.00))  # 近白的淡紫
sub_text = ax.text(0, 0.64, WISH_EN,
                   ha='center', va='center', fontsize=12.5,
                   color=(0.80, 0.85, 1.00))   # 冷白藍

# ---- 泡泡（偏冷白）----
bubbles = []
for _ in range(BUBBLE_COUNT):
    x = random.uniform(-1.0, 1.0)
    y = random.uniform(-1.0, -0.1)
    r = random.uniform(0.008, 0.03)
    speed = random.uniform(0.08, 0.21) / FPS
    alpha = random.uniform(0.25, 0.60)
    sway_amp = random.uniform(0.004, 0.025)
    sway_phase = random.uniform(0, 2*np.pi)
    bubbles.append([x, y, r, speed, alpha, sway_amp, sway_phase])

bubble_scatter = ax.scatter([b[0] for b in bubbles],
                            [b[1] for b in bubbles],
                            s=[(b[2]*2000)**2 for b in bubbles],
                            c='white', alpha=0.50, marker='o')

# ---- 冷色紙屑（紫藍、青藍、薰衣草）----
cool_colors = [
    (0.70, 0.78, 1.00),  # 淡藍
    (0.82, 0.70, 1.00),  # 薰衣草
    (0.65, 0.85, 0.98),  # 青藍
    (0.88, 0.75, 0.98),  # 淡紫
    (0.76, 0.90, 1.00),  # 天藍
]
confettis = []
for _ in range(CONFETTI_COUNT):
    x = random.uniform(-1.0, 1.0)
    y = random.uniform(0.95, 1.45)
    size = random.uniform(8, 25)
    fall = random.uniform(0.10, 0.22) / FPS
    sway_amp = random.uniform(0.002, 0.018)
    sway_phase = random.uniform(0, 2*np.pi)
    color = random.choice(cool_colors)
    confettis.append([x, y, size, fall, sway_amp, sway_phase, color])

confetti_scatter = ax.scatter([c[0] for c in confettis],
                              [c[1] for c in confettis],
                              s=[c[2] for c in confettis],
                              c=[c[6] for c in confettis],
                              alpha=0.88, marker='o')

# ---- 星空（偏白藍閃爍）----
stars = []
for _ in range(STAR_COUNT):
    x = random.uniform(-1.05, 1.05)
    y = random.uniform(-0.2, 1.15)
    base = random.uniform(4, 22)
    twinkle = random.uniform(0.5, 2.0)
    phase = random.uniform(0, 2*np.pi)
    stars.append([x, y, base, twinkle, phase])
star_scatter = ax.scatter([s[0] for s in stars],
                          [s[1] for s in stars],
                          s=[s[2] for s in stars],
                          c=(0.90,0.95,1.0), alpha=0.85, marker='*')

# ---- 心軌跡流光（冷白 → 青藍 → 淡紫）----
sparkles = []
for _ in range(SPARKLE_COUNT):
    idx = random.randint(0, len(tt)-1)
    speed = random.uniform(60, 120) / FPS
    life = random.uniform(0.6, 1.6)
    phase = random.uniform(0, 1.0)
    sparkles.append([idx, speed, life, phase])

sparkle_scatter = ax.scatter([], [], s=[], c=[], alpha=1.0)

# ---- 小愛心衛星（沿橢圓軌道）----
orbit_Rx, orbit_Ry = 0.55, 0.40
mini_speed = 0.4  # 圈/秒
mini_scale = 0.08
mini_poly = Polygon(np.column_stack([hx*mini_scale, hy*mini_scale]),
                    closed=True, edgecolor='none',
                    facecolor=(0.90, 0.30, 0.70, 0.96))  # 紫粉衛星
ax.add_patch(mini_poly)

# ---- 動畫參數 ----
total_frames = DURATION * FPS
HEART_BEAT_HZ = 1.00   # 深藍版稍慢、更靜謐
TEXT_SWAY_HZ = 0.16

def update(frame):
    tsec = frame / FPS

    # 心跳縮放
    beat = np.sin(2*np.pi*HEART_BEAT_HZ*tsec)
    beat = np.maximum(beat, 0)
    scale = scale_base * (1.0 + 0.065*beat)

    # 外圈光暈（由外到內）
    for i, poly in enumerate(heart_polys):
        glow_scale = (1.0 + 0.055*(GLOW_LAYERS - i - 1)) * (1.0 + 0.02*beat)
        poly.set_xy(np.column_stack([hx*glow_scale/scale_base*scale,
                                     hy*glow_scale/scale_base*scale]))
        alpha = 0.12 * (i+1)/GLOW_LAYERS * (0.8 + 0.4*beat)
        # 冷粉紫階（與深藍對比）
        poly.set_facecolor((0.80 + 0.05*i/GLOW_LAYERS,
                            0.42 + 0.08*i/GLOW_LAYERS,
                            0.90, alpha))

    # 核心心（洋紅帶紫）
    heart_core.set_xy(np.column_stack([hx*0.995/scale_base*scale,
                                       hy*0.995/scale_base*scale]))
    heart_core.set_facecolor((0.96, 0.20 + 0.28*beat, 0.55 + 0.20*beat, 0.97))

    # 泡泡
    bx, by, bs = [], [], []
    for b in bubbles:
        b[1] += b[3]
        if b[1] - b[2] > 1.18:
            b[0] = random.uniform(-1.0, 1.0)
            b[1] = random.uniform(-1.0, -0.15)
            b[2] = random.uniform(0.008, 0.03)
            b[3] = random.uniform(0.08, 0.21) / FPS
            b[4] = random.uniform(0.25, 0.60)
            b[5] = random.uniform(0.004, 0.025)
            b[6] = random.uniform(0, 2*np.pi)
        x_disp = b[5] * np.cos(2*np.pi*0.25*tsec + b[6])
        bx.append(b[0] + x_disp); by.append(b[1]); bs.append((b[2]*2000)**2)
    bubble_scatter.set_offsets(np.column_stack([bx, by]))
    bubble_scatter.set_sizes(bs)

    # 紙屑
    cx, cy, cs, cc = [], [], [], []
    for c in confettis:
        c[1] -= c[3]
        if c[1] < -0.25:
            c[0] = random.uniform(-1.0, 1.0)
            c[1] = random.uniform(0.95, 1.45)
            c[2] = random.uniform(8, 25)
            c[3] = random.uniform(0.10, 0.22) / FPS
            c[4] = random.uniform(0.002, 0.018)
            c[5] = random.uniform(0, 2*np.pi)
            c[6] = random.choice(cool_colors)
        x_disp = c[4] * np.sin(2*np.pi*0.33*tsec + c[5])
        cx.append(c[0] + x_disp); cy.append(c[1]); cs.append(c[2]); cc.append(c[6])
    confetti_scatter.set_offsets(np.column_stack([cx, cy]))
    confetti_scatter.set_sizes(cs)
    confetti_scatter.set_color(cc)

    # 星空閃爍（白藍）
    sx, sy, ss = [], [], []
    for s in stars:
        size = s[2] * (0.65 + 0.45*np.abs(np.sin(2*np.pi*s[3]*tsec + s[4])))
        sx.append(s[0]); sy.append(s[1]); ss.append(size)
    star_scatter.set_offsets(np.column_stack([sx, sy]))
    star_scatter.set_sizes(ss)

    # 心軌跡流光（冷白→青藍→淡紫）
    spx, spy, sps, spc = [], [], [], []
    for sp in sparkles:
        sp[0] = (sp[0] + sp[1]) % len(tt)
        idx = int(sp[0])
        tail_len = int(sp[2]*FPS*0.6) + 3
        for j in range(tail_len):
            ii = (idx - j) % len(tt)
            x = (hx[ii]/scale_base)*scale
            y = (hy[ii]/scale_base)*scale
            fade = np.exp(-j/float(tail_len)*2.2)
            spx.append(x); spy.append(y)
            sps.append(12*fade + 4)
            # 冷色漸層（帶 alpha）
            col = (0.90 + 0.10*fade*0.0,  # R 保持高亮白感
                   0.95 - 0.25*(1-fade),  # G 越遠越冷
                   1.00,
                   0.85*fade)
            # 混入一點淡紫
            if j % 3 == 0:
                col = (0.85 + 0.10*fade, 0.80, 1.00, 0.85*fade)
            spc.append(col)
    sparkle_scatter.set_offsets(np.column_stack([spx, spy]))
    sparkle_scatter.set_sizes(sps)
    sparkle_scatter.set_color(spc)

    # 小愛心衛星
    theta = 2*np.pi*mini_speed*tsec
    cxo = orbit_Rx*np.cos(theta); cyo = orbit_Ry*np.sin(theta) + 0.02*np.sin(4*theta)
    mini_poly.set_xy(np.column_stack([hx*mini_scale + cxo, hy*mini_scale + cyo]))

    # 文字：心跳同步微縮放、輕微飄動
    text_scale = 1.0 + 0.060*beat
    title_text.set_fontsize(30*text_scale)
    sub_text.set_fontsize(12.5*(0.98 + 0.03*np.sin(2*np.pi*TEXT_SWAY_HZ*tsec)))
    title_text.set_position((0, 0.78 + 0.012*np.sin(2*np.pi*TEXT_SWAY_HZ*tsec)))
    sub_text.set_position((0, 0.64 + 0.010*np.sin(2*np.pi*(TEXT_SWAY_HZ+0.05)*tsec)))

    return (heart_polys + [heart_core, bubble_scatter, confetti_scatter,
                           star_scatter, sparkle_scatter, mini_poly,
                           title_text, sub_text])

# 建立動畫
anim = animation.FuncAnimation(fig, update, frames=DURATION*FPS,
                               interval=1000/FPS, blit=False)

# 在 Colab 顯示
try:
    display(HTML(anim.to_jshtml()))
except Exception:
    display(HTML(anim.to_html5_video()))

# 輸出 GIF（選配）
if SAVE_GIF:
    try:
        anim.save(GIFT_NAME, writer='pillow', fps=FPS)
        print(f"Saved: {GIFT_NAME}")
    except Exception as e:
        print("若要輸出 GIF，請先安裝 pillow： pip install pillow")
        print("錯誤：", e)
