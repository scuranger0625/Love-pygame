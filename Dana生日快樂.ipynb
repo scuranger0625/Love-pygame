# -*- coding: utf-8 -*-
# Romantic Happy Birthday (Colab-friendly, no pygame)
# 直接在Colab執行
# 升級版：漸層背景 / 星光閃爍 / 愛心光暈 / 心軌跡流光 / 小愛心衛星

import numpy as np
import matplotlib.pyplot as plt
from matplotlib import animation
from matplotlib.patches import Polygon
from IPython.display import HTML, display
import random

# ===================== 可調參數 =====================
WIDTH, HEIGHT = 8, 6         # 畫布尺寸（英吋）
FPS = 60                      # 影格率
DURATION = 14                 # 動畫秒數
BUBBLE_COUNT = 60             # 泡泡數量（保留原有泡泡感）
CONFETTI_COUNT = 90           # 紙屑粒子數
STAR_COUNT = 120              # 星空點數
SPARKLE_COUNT = 70            # 心軌跡流光顆數
GLOW_LAYERS = 6               # 心外圈光暈層數
SAVE_GIF = False              # 是否輸出 GIF（需 pillow）
GIFT_NAME = "romantic_birthday.gif"
YOUR_NAME = "Dana"            # 壽星名稱
WISH_EN = "I hope Dana can let go of the past and find her own peace."
# ===================================================

# ---- 心形參數曲線（經典愛心） ----
tt = np.linspace(0, 2*np.pi, 800)
hx = 16 * np.sin(tt)**3
hy = 13*np.cos(tt) - 5*np.cos(2*tt) - 2*np.cos(3*tt) - np.cos(4*tt)

# 正常化＆縮放到畫面
scale_base = 0.35
hx *= scale_base
hy *= scale_base

# ---- 建立畫布 ----
fig, ax = plt.subplots(figsize=(WIDTH, HEIGHT))
ax.set_aspect('equal')
ax.set_xlim(-1.05, 1.05)
ax.set_ylim(-0.9, 1.15)
ax.axis('off')

# ---- 背景：徑向漸層 + 暈影（vignette） ----
# 建一個格點並算到中心距離，做柔粉->白->柔粉的徑向漸層
res = 600
xx = np.linspace(-1.2, 1.2, res)
yy = np.linspace(-1.2, 1.4, res)
X, Y = np.meshgrid(xx, yy)
R = np.sqrt((X/1.2)**2 + ((Y-0.1)/1.2)**2)

# 背景色：由中心偏暖亮，外圈偏粉
# base: (1.0, 0.92, 0.95); center: 更亮；外圈：更粉
bg_center = np.array([1.00, 0.97, 0.99])
bg_outer  = np.array([1.00, 0.90, 0.95])
t_bg = np.clip(R, 0, 1).reshape(res, res, 1)
BG = bg_center*(1-t_bg) + bg_outer*t_bg

# 暈影（在四角加深）
vignette = np.clip(0.35 + 0.75*R, 0.35, 1.0)[..., None]
BG = BG * vignette

ax.imshow(BG, extent=(-1.2,1.2,-1.2,1.4), origin='lower')

# ---- 愛心 glow：多層半透明多邊形 ----
heart_polys = []
for i in range(GLOW_LAYERS):
    # 外層大、透明、粉；內層小、較紅
    glow_scale = 1.0 + 0.055*(GLOW_LAYERS - i - 1)
    poly = Polygon(np.column_stack([hx*glow_scale, hy*glow_scale]),
                   closed=True, edgecolor='none', facecolor=(1.0, 0.55, 0.70, 0.10))
    heart_polys.append(poly)
    ax.add_patch(poly)

# 內核心：更飽和
heart_core = Polygon(np.column_stack([hx*0.995, hy*0.995]),
                     closed=True, edgecolor='none', facecolor=(1.0, 0.25, 0.38, 0.95))
ax.add_patch(heart_core)

# ---- 文字（與心跳同步微動）----
title_text = ax.text(0, 0.78, f"Happy Birthday, {YOUR_NAME}! ✨",
                     ha='center', va='center', fontsize=30, weight='bold',
                     color=(0.55,0.10,0.20))
sub_text = ax.text(0, 0.64, WISH_EN,
                   ha='center', va='center', fontsize=12.5, color=(0.40,0.10,0.18))

# ---- 泡泡（維持柔感）----
bubbles = []
for _ in range(BUBBLE_COUNT):
    x = random.uniform(-1.0, 1.0)
    y = random.uniform(-1.0, -0.1)
    r = random.uniform(0.008, 0.03)
    speed = random.uniform(0.08, 0.21) / FPS
    alpha = random.uniform(0.25, 0.60)
    sway_amp = random.uniform(0.004, 0.025)
    sway_phase = random.uniform(0, 2*np.pi)
    bubbles.append([x, y, r, speed, alpha, sway_amp, sway_phase])

bubble_scatter = ax.scatter([b[0] for b in bubbles],
                            [b[1] for b in bubbles],
                            s=[(b[2]*2000)**2 for b in bubbles],
                            c='white', alpha=0.58, marker='o')

# ---- 紙屑（緩慢下墜）----
confettis = []
warm_colors = [
    (1.0, 0.65, 0.75),
    (1.0, 0.80, 0.86),
    (0.97, 0.60, 0.70),
    (1.0, 0.72, 0.82),
    (0.98, 0.77, 0.87),
]
for _ in range(CONFETTI_COUNT):
    x = random.uniform(-1.0, 1.0)
    y = random.uniform(0.95, 1.45)
    size = random.uniform(8, 25)
    fall = random.uniform(0.10, 0.22) / FPS
    sway_amp = random.uniform(0.002, 0.018)
    sway_phase = random.uniform(0, 2*np.pi)
    color = random.choice(warm_colors)
    confettis.append([x, y, size, fall, sway_amp, sway_phase, color])

confetti_scatter = ax.scatter([c[0] for c in confettis],
                              [c[1] for c in confettis],
                              s=[c[2] for c in confettis],
                              c=[c[6] for c in confettis],
                              alpha=0.88, marker='o')

# ---- 星空（隨機閃爍）----
stars = []
for _ in range(STAR_COUNT):
    x = random.uniform(-1.05, 1.05)
    y = random.uniform(-0.2, 1.15)
    base = random.uniform(4, 22)
    twinkle = random.uniform(0.5, 2.0)   # 閃爍頻率
    phase = random.uniform(0, 2*np.pi)
    stars.append([x, y, base, twinkle, phase])
star_scatter = ax.scatter([s[0] for s in stars],
                          [s[1] for s in stars],
                          s=[s[2] for s in stars],
                          c='white', alpha=0.75, marker='*')

# ---- 心軌跡流光（沿心線跑的粒子，帶尾巴）----
# 我們沿 tt 取樣 SPARKLE_COUNT 個粒子，每顆有自己的相位與速度
sparkles = []
for _ in range(SPARKLE_COUNT):
    idx = random.randint(0, len(tt)-1)
    speed = random.uniform(60, 120) / FPS  # 每秒移動點數
    life = random.uniform(0.6, 1.6)        # 尾巴壽命（秒）
    phase = random.uniform(0, 1.0)
    sparkles.append([idx, speed, life, phase])

# 顯示流光粒子（用散點即可）
sparkle_scatter = ax.scatter([], [], s=[], c=[], alpha=1.0)

# ---- 小愛心衛星（沿椭圓軌道繞主心）----
orbit_Rx, orbit_Ry = 0.55, 0.40
mini_t = 0.0  # 參數
mini_speed = 0.4  # 轉速（圈/秒）
# 小愛心（用更小比例）
mini_scale = 0.08
mini_poly = Polygon(np.column_stack([hx*mini_scale, hy*mini_scale]),
                    closed=True, edgecolor='none', facecolor=(1.0, 0.35, 0.55, 0.95))
ax.add_patch(mini_poly)

# ---- 動畫參數 ----
total_frames = DURATION * FPS
HEART_BEAT_HZ = 1.08   # 稍微慢一點，浪漫感
TEXT_SWAY_HZ = 0.18

def update(frame):
    tsec = frame / FPS

    # ===== 心跳縮放與顏色呼吸 =====
    beat = np.sin(2*np.pi*HEART_BEAT_HZ*tsec)
    beat = np.maximum(beat, 0)                   # 只取收縮期
    scale = scale_base * (1.0 + 0.07*beat)

    # 更新 glow 層（由外到內，顏色與 alpha 漸變）
    for i, poly in enumerate(heart_polys):
        glow_scale = (1.0 + 0.055*(GLOW_LAYERS - i - 1)) * (1.0 + 0.02*beat)
        poly.set_xy(np.column_stack([hx*glow_scale/scale_base*scale,
                                     hy*glow_scale/scale_base*scale]))
        alpha = 0.12 * (i+1)/GLOW_LAYERS * (0.8 + 0.4*beat)
        poly.set_facecolor((1.0, 0.55 - 0.12*i/GLOW_LAYERS, 0.70 - 0.10*i/GLOW_LAYERS, alpha))

    # 核心心
    heart_core.set_xy(np.column_stack([hx*0.995/scale_base*scale,
                                       hy*0.995/scale_base*scale]))
    heart_core.set_facecolor((1.0, 0.22 + 0.35*beat, 0.35 + 0.38*beat, 0.97))

    # ===== 泡泡（上升＋輕微左右擺）=====
    bx, by, bs = [], [], []
    for b in bubbles:
        b[1] += b[3]
        if b[1] - b[2] > 1.18:
            b[0] = random.uniform(-1.0, 1.0)
            b[1] = random.uniform(-1.0, -0.15)
            b[2] = random.uniform(0.008, 0.03)
            b[3] = random.uniform(0.08, 0.21) / FPS
            b[4] = random.uniform(0.25, 0.60)
            b[5] = random.uniform(0.004, 0.025)
            b[6] = random.uniform(0, 2*np.pi)
        x_disp = b[5] * np.cos(2*np.pi*0.25*tsec + b[6])
        bx.append(b[0] + x_disp)
        by.append(b[1])
        bs.append((b[2]*2000)**2)
    bubble_scatter.set_offsets(np.column_stack([bx, by]))
    bubble_scatter.set_sizes(bs)

    # ===== 紙屑（下墜＋左右微擺）=====
    cx, cy, cs, cc = [], [], [], []
    for c in confettis:
        c[1] -= c[3]
        if c[1] < -0.25:
            c[0] = random.uniform(-1.0, 1.0)
            c[1] = random.uniform(0.95, 1.45)
            c[2] = random.uniform(8, 25)
            c[3] = random.uniform(0.10, 0.22) / FPS
            c[4] = random.uniform(0.002, 0.018)
            c[5] = random.uniform(0, 2*np.pi)
            c[6] = random.choice(warm_colors)
        x_disp = c[4] * np.sin(2*np.pi*0.33*tsec + c[5])
        cx.append(c[0] + x_disp); cy.append(c[1]); cs.append(c[2]); cc.append(c[6])
    confetti_scatter.set_offsets(np.column_stack([cx, cy]))
    confetti_scatter.set_sizes(cs)
    confetti_scatter.set_color(cc)

    # ===== 星空（閃爍）=====
    sx, sy, ss = [], [], []
    for s in stars:
        # s = [x, y, base, twinkle, phase]
        size = s[2] * (0.65 + 0.45*np.abs(np.sin(2*np.pi*s[3]*tsec + s[4])))
        sx.append(s[0]); sy.append(s[1]); ss.append(size)
    star_scatter.set_offsets(np.column_stack([sx, sy]))
    star_scatter.set_sizes(ss)

    # ===== 心軌跡流光（尾巴漸隱）=====
    # 每顆沿 tt 走，取對應 xy；尾巴長度 = life * FPS
    spx, spy, sps, spc = [], [], [], []
    for k, sp in enumerate(sparkles):
        sp[0] = (sp[0] + sp[1]) % len(tt)  # 前進
        idx = int(sp[0])
        # 取附近一小段作為尾巴
        tail_len = int(sp[2]*FPS*0.6) + 3
        for j in range(tail_len):
            ii = (idx - j) % len(tt)
            # 將心放大到當前 scale
            x = (hx[ii]/scale_base)*scale
            y = (hy[ii]/scale_base)*scale
            # 尾巴越遠越淡越小
            fade = np.exp(-j/float(tail_len)*2.2)
            spx.append(x); spy.append(y)
            sps.append(12*fade + 4)
            # 用暖白到粉色的漸層
            col = (1.0, 0.85 - 0.40*(1-fade), 0.90, 0.85*fade)
            spc.append(col)
    sparkle_scatter.set_offsets(np.column_stack([spx, spy]))
    sparkle_scatter.set_sizes(sps)
    sparkle_scatter.set_color(spc)

    # ===== 小愛心衛星（繞主心）=====
    theta = 2*np.pi*mini_speed*tsec
    cx = orbit_Rx*np.cos(theta); cy = orbit_Ry*np.sin(theta) + 0.02*np.sin(4*theta)
    mini_poly.set_xy(np.column_stack([hx*mini_scale + cx, hy*mini_scale + cy]))

    # ===== 文字：心跳同步微縮放、輕微飄動 =====
    text_scale = 1.0 + 0.065*beat
    title_text.set_fontsize(30*text_scale)
    sub_text.set_fontsize(12.5*(0.98 + 0.03*np.sin(2*np.pi*TEXT_SWAY_HZ*tsec)))
    title_text.set_position((0, 0.78 + 0.012*np.sin(2*np.pi*TEXT_SWAY_HZ*tsec)))
    sub_text.set_position((0, 0.64 + 0.010*np.sin(2*np.pi*(TEXT_SWAY_HZ+0.05)*tsec)))

    return (heart_polys + [heart_core, bubble_scatter, confetti_scatter,
                           star_scatter, sparkle_scatter, mini_poly,
                           title_text, sub_text])

# 建立動畫
total_frames = DURATION * FPS
anim = animation.FuncAnimation(fig, update, frames=total_frames,
                               interval=1000/FPS, blit=False)

# 直接在 Colab 顯示
try:
    display(HTML(anim.to_jshtml()))
except Exception:
    display(HTML(anim.to_html5_video()))

# 輸出 GIF（選配）
if SAVE_GIF:
    try:
        anim.save(GIFT_NAME, writer='pillow', fps=FPS)
        print(f"Saved: {GIFT_NAME}")
    except Exception as e:
        print("若要輸出 GIF，請先安裝 pillow： pip install pillow")
        print("錯誤：", e)
